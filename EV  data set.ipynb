{
 "cells": [
  {
   "cell_type": "code",
   "execution_count": 84,
   "id": "dd90347e-5836-4751-9997-745953520cbb",
   "metadata": {},
   "outputs": [],
   "source": [
    "import pandas as pd\n",
    "import numpy as np\n",
    "import matplotlib.pyplot as plt\n",
    "%matplotlib inline\n",
    "import seaborn as sns"
   ]
  },
  {
   "cell_type": "code",
   "execution_count": 85,
   "id": "cf60aeea-3d19-4b91-87e0-ee8e4fc49e38",
   "metadata": {},
   "outputs": [],
   "source": [
    "df=pd.read_csv(\"nyserda-electric-vehicle-drive-clean-rebate-data-beginning-2017-1.csv\")"
   ]
  },
  {
   "cell_type": "code",
   "execution_count": 86,
   "id": "0be2e46b-4b23-4b45-b0db-679b2ef0bd1d",
   "metadata": {},
   "outputs": [
    {
     "data": {
      "text/html": [
       "<div>\n",
       "<style scoped>\n",
       "    .dataframe tbody tr th:only-of-type {\n",
       "        vertical-align: middle;\n",
       "    }\n",
       "\n",
       "    .dataframe tbody tr th {\n",
       "        vertical-align: top;\n",
       "    }\n",
       "\n",
       "    .dataframe thead th {\n",
       "        text-align: right;\n",
       "    }\n",
       "</style>\n",
       "<table border=\"1\" class=\"dataframe\">\n",
       "  <thead>\n",
       "    <tr style=\"text-align: right;\">\n",
       "      <th></th>\n",
       "      <th>Data through Date</th>\n",
       "      <th>Submitted Date</th>\n",
       "      <th>Make</th>\n",
       "      <th>Model</th>\n",
       "      <th>County</th>\n",
       "      <th>ZIP</th>\n",
       "      <th>EV Type</th>\n",
       "      <th>Transaction Type</th>\n",
       "      <th>Annual GHG Emissions Reductions (MT CO2e)</th>\n",
       "      <th>Annual Petroleum Reductions (gallons)</th>\n",
       "      <th>Rebate Amount (USD)</th>\n",
       "    </tr>\n",
       "  </thead>\n",
       "  <tbody>\n",
       "    <tr>\n",
       "      <th>0</th>\n",
       "      <td>02/29/2020</td>\n",
       "      <td>01/13/2018</td>\n",
       "      <td>Ford</td>\n",
       "      <td>Focus</td>\n",
       "      <td>Westchester</td>\n",
       "      <td>10598</td>\n",
       "      <td>BEV</td>\n",
       "      <td>Lease</td>\n",
       "      <td>2.76</td>\n",
       "      <td>592.89</td>\n",
       "      <td>1700</td>\n",
       "    </tr>\n",
       "    <tr>\n",
       "      <th>1</th>\n",
       "      <td>02/29/2020</td>\n",
       "      <td>09/25/2017</td>\n",
       "      <td>Ford</td>\n",
       "      <td>Focus</td>\n",
       "      <td>Oneida</td>\n",
       "      <td>13601</td>\n",
       "      <td>BEV</td>\n",
       "      <td>Lease</td>\n",
       "      <td>2.76</td>\n",
       "      <td>592.89</td>\n",
       "      <td>1700</td>\n",
       "    </tr>\n",
       "    <tr>\n",
       "      <th>2</th>\n",
       "      <td>02/29/2020</td>\n",
       "      <td>04/26/2018</td>\n",
       "      <td>Ford</td>\n",
       "      <td>Focus</td>\n",
       "      <td>Suffolk</td>\n",
       "      <td>11776</td>\n",
       "      <td>BEV</td>\n",
       "      <td>Lease</td>\n",
       "      <td>2.76</td>\n",
       "      <td>592.89</td>\n",
       "      <td>1700</td>\n",
       "    </tr>\n",
       "    <tr>\n",
       "      <th>3</th>\n",
       "      <td>02/29/2020</td>\n",
       "      <td>08/30/2017</td>\n",
       "      <td>Ford</td>\n",
       "      <td>Focus</td>\n",
       "      <td>Nassau</td>\n",
       "      <td>11756</td>\n",
       "      <td>BEV</td>\n",
       "      <td>Lease</td>\n",
       "      <td>2.76</td>\n",
       "      <td>592.89</td>\n",
       "      <td>1700</td>\n",
       "    </tr>\n",
       "    <tr>\n",
       "      <th>4</th>\n",
       "      <td>02/29/2020</td>\n",
       "      <td>05/29/2018</td>\n",
       "      <td>Ford</td>\n",
       "      <td>Focus</td>\n",
       "      <td>Onondaga</td>\n",
       "      <td>13039</td>\n",
       "      <td>BEV</td>\n",
       "      <td>Purchase</td>\n",
       "      <td>2.76</td>\n",
       "      <td>592.89</td>\n",
       "      <td>1700</td>\n",
       "    </tr>\n",
       "  </tbody>\n",
       "</table>\n",
       "</div>"
      ],
      "text/plain": [
       "  Data through Date Submitted Date  Make  Model       County    ZIP EV Type  \\\n",
       "0        02/29/2020     01/13/2018  Ford  Focus  Westchester  10598     BEV   \n",
       "1        02/29/2020     09/25/2017  Ford  Focus       Oneida  13601     BEV   \n",
       "2        02/29/2020     04/26/2018  Ford  Focus      Suffolk  11776     BEV   \n",
       "3        02/29/2020     08/30/2017  Ford  Focus       Nassau  11756     BEV   \n",
       "4        02/29/2020     05/29/2018  Ford  Focus     Onondaga  13039     BEV   \n",
       "\n",
       "  Transaction Type  Annual GHG Emissions Reductions (MT CO2e)  \\\n",
       "0            Lease                                       2.76   \n",
       "1            Lease                                       2.76   \n",
       "2            Lease                                       2.76   \n",
       "3            Lease                                       2.76   \n",
       "4         Purchase                                       2.76   \n",
       "\n",
       "   Annual Petroleum Reductions (gallons)  Rebate Amount (USD)  \n",
       "0                                 592.89                 1700  \n",
       "1                                 592.89                 1700  \n",
       "2                                 592.89                 1700  \n",
       "3                                 592.89                 1700  \n",
       "4                                 592.89                 1700  "
      ]
     },
     "execution_count": 86,
     "metadata": {},
     "output_type": "execute_result"
    }
   ],
   "source": [
    "df.head()"
   ]
  },
  {
   "cell_type": "code",
   "execution_count": 87,
   "id": "8309cf62-1818-4756-a298-ae893f529b42",
   "metadata": {},
   "outputs": [
    {
     "name": "stdout",
     "output_type": "stream",
     "text": [
      "<class 'pandas.core.frame.DataFrame'>\n",
      "RangeIndex: 23174 entries, 0 to 23173\n",
      "Data columns (total 11 columns):\n",
      " #   Column                                     Non-Null Count  Dtype  \n",
      "---  ------                                     --------------  -----  \n",
      " 0   Data through Date                          23174 non-null  object \n",
      " 1   Submitted Date                             23174 non-null  object \n",
      " 2   Make                                       23174 non-null  object \n",
      " 3   Model                                      23174 non-null  object \n",
      " 4   County                                     23174 non-null  object \n",
      " 5   ZIP                                        23174 non-null  int64  \n",
      " 6   EV Type                                    23174 non-null  object \n",
      " 7   Transaction Type                           23174 non-null  object \n",
      " 8   Annual GHG Emissions Reductions (MT CO2e)  23174 non-null  float64\n",
      " 9   Annual Petroleum Reductions (gallons)      23174 non-null  float64\n",
      " 10  Rebate Amount (USD)                        23174 non-null  int64  \n",
      "dtypes: float64(2), int64(2), object(7)\n",
      "memory usage: 1.9+ MB\n"
     ]
    }
   ],
   "source": [
    "df.info()"
   ]
  },
  {
   "cell_type": "code",
   "execution_count": 88,
   "id": "fd90b0a6-5d09-4a68-85ab-5f4f4c5cdb6f",
   "metadata": {},
   "outputs": [
    {
     "data": {
      "text/html": [
       "<div>\n",
       "<style scoped>\n",
       "    .dataframe tbody tr th:only-of-type {\n",
       "        vertical-align: middle;\n",
       "    }\n",
       "\n",
       "    .dataframe tbody tr th {\n",
       "        vertical-align: top;\n",
       "    }\n",
       "\n",
       "    .dataframe thead th {\n",
       "        text-align: right;\n",
       "    }\n",
       "</style>\n",
       "<table border=\"1\" class=\"dataframe\">\n",
       "  <thead>\n",
       "    <tr style=\"text-align: right;\">\n",
       "      <th></th>\n",
       "      <th>ZIP</th>\n",
       "      <th>Annual GHG Emissions Reductions (MT CO2e)</th>\n",
       "      <th>Annual Petroleum Reductions (gallons)</th>\n",
       "      <th>Rebate Amount (USD)</th>\n",
       "    </tr>\n",
       "  </thead>\n",
       "  <tbody>\n",
       "    <tr>\n",
       "      <th>count</th>\n",
       "      <td>23174.000000</td>\n",
       "      <td>23174.000000</td>\n",
       "      <td>23174.000000</td>\n",
       "      <td>23174.000000</td>\n",
       "    </tr>\n",
       "    <tr>\n",
       "      <th>mean</th>\n",
       "      <td>12206.410935</td>\n",
       "      <td>2.692061</td>\n",
       "      <td>488.940697</td>\n",
       "      <td>1408.893588</td>\n",
       "    </tr>\n",
       "    <tr>\n",
       "      <th>std</th>\n",
       "      <td>1314.792418</td>\n",
       "      <td>0.641441</td>\n",
       "      <td>108.241707</td>\n",
       "      <td>494.254611</td>\n",
       "    </tr>\n",
       "    <tr>\n",
       "      <th>min</th>\n",
       "      <td>10001.000000</td>\n",
       "      <td>-0.930000</td>\n",
       "      <td>-7.110000</td>\n",
       "      <td>500.000000</td>\n",
       "    </tr>\n",
       "    <tr>\n",
       "      <th>25%</th>\n",
       "      <td>11369.250000</td>\n",
       "      <td>2.650000</td>\n",
       "      <td>440.110000</td>\n",
       "      <td>1100.000000</td>\n",
       "    </tr>\n",
       "    <tr>\n",
       "      <th>50%</th>\n",
       "      <td>11788.000000</td>\n",
       "      <td>2.990000</td>\n",
       "      <td>503.600000</td>\n",
       "      <td>1100.000000</td>\n",
       "    </tr>\n",
       "    <tr>\n",
       "      <th>75%</th>\n",
       "      <td>13041.000000</td>\n",
       "      <td>3.030000</td>\n",
       "      <td>592.890000</td>\n",
       "      <td>2000.000000</td>\n",
       "    </tr>\n",
       "    <tr>\n",
       "      <th>max</th>\n",
       "      <td>14905.000000</td>\n",
       "      <td>3.310000</td>\n",
       "      <td>592.890000</td>\n",
       "      <td>2000.000000</td>\n",
       "    </tr>\n",
       "  </tbody>\n",
       "</table>\n",
       "</div>"
      ],
      "text/plain": [
       "                ZIP  Annual GHG Emissions Reductions (MT CO2e)  \\\n",
       "count  23174.000000                               23174.000000   \n",
       "mean   12206.410935                                   2.692061   \n",
       "std     1314.792418                                   0.641441   \n",
       "min    10001.000000                                  -0.930000   \n",
       "25%    11369.250000                                   2.650000   \n",
       "50%    11788.000000                                   2.990000   \n",
       "75%    13041.000000                                   3.030000   \n",
       "max    14905.000000                                   3.310000   \n",
       "\n",
       "       Annual Petroleum Reductions (gallons)  Rebate Amount (USD)  \n",
       "count                           23174.000000         23174.000000  \n",
       "mean                              488.940697          1408.893588  \n",
       "std                               108.241707           494.254611  \n",
       "min                                -7.110000           500.000000  \n",
       "25%                               440.110000          1100.000000  \n",
       "50%                               503.600000          1100.000000  \n",
       "75%                               592.890000          2000.000000  \n",
       "max                               592.890000          2000.000000  "
      ]
     },
     "execution_count": 88,
     "metadata": {},
     "output_type": "execute_result"
    }
   ],
   "source": [
    "df.describe()"
   ]
  },
  {
   "cell_type": "code",
   "execution_count": 89,
   "id": "3054ebaf-54ce-4af7-b26e-68bee11c747e",
   "metadata": {},
   "outputs": [
    {
     "data": {
      "text/plain": [
       "Data through Date                            0\n",
       "Submitted Date                               0\n",
       "Make                                         0\n",
       "Model                                        0\n",
       "County                                       0\n",
       "ZIP                                          0\n",
       "EV Type                                      0\n",
       "Transaction Type                             0\n",
       "Annual GHG Emissions Reductions (MT CO2e)    0\n",
       "Annual Petroleum Reductions (gallons)        0\n",
       "Rebate Amount (USD)                          0\n",
       "dtype: int64"
      ]
     },
     "execution_count": 89,
     "metadata": {},
     "output_type": "execute_result"
    }
   ],
   "source": [
    "df.isnull().sum()"
   ]
  },
  {
   "cell_type": "markdown",
   "id": "6a3e9472-9c9c-422e-a88f-5daf493045c3",
   "metadata": {},
   "source": [
    "                                        #Conclusion:->\n",
    "                                        1.There are no nulll values"
   ]
  },
  {
   "cell_type": "code",
   "execution_count": 90,
   "id": "97f8b75d-1455-456a-91d0-dff234dc2fd9",
   "metadata": {},
   "outputs": [
    {
     "data": {
      "text/html": [
       "<div>\n",
       "<style scoped>\n",
       "    .dataframe tbody tr th:only-of-type {\n",
       "        vertical-align: middle;\n",
       "    }\n",
       "\n",
       "    .dataframe tbody tr th {\n",
       "        vertical-align: top;\n",
       "    }\n",
       "\n",
       "    .dataframe thead th {\n",
       "        text-align: right;\n",
       "    }\n",
       "</style>\n",
       "<table border=\"1\" class=\"dataframe\">\n",
       "  <thead>\n",
       "    <tr style=\"text-align: right;\">\n",
       "      <th></th>\n",
       "      <th>Data through Date</th>\n",
       "      <th>Submitted Date</th>\n",
       "      <th>Make</th>\n",
       "      <th>Model</th>\n",
       "      <th>County</th>\n",
       "      <th>ZIP</th>\n",
       "      <th>EV Type</th>\n",
       "      <th>Transaction Type</th>\n",
       "      <th>Annual GHG Emissions Reductions (MT CO2e)</th>\n",
       "      <th>Annual Petroleum Reductions (gallons)</th>\n",
       "      <th>Rebate Amount (USD)</th>\n",
       "    </tr>\n",
       "  </thead>\n",
       "  <tbody>\n",
       "    <tr>\n",
       "      <th>0</th>\n",
       "      <td>02/29/2020</td>\n",
       "      <td>01/13/2018</td>\n",
       "      <td>Ford</td>\n",
       "      <td>Focus</td>\n",
       "      <td>Westchester</td>\n",
       "      <td>10598</td>\n",
       "      <td>BEV</td>\n",
       "      <td>Lease</td>\n",
       "      <td>2.76</td>\n",
       "      <td>592.89</td>\n",
       "      <td>1700</td>\n",
       "    </tr>\n",
       "    <tr>\n",
       "      <th>1</th>\n",
       "      <td>02/29/2020</td>\n",
       "      <td>09/25/2017</td>\n",
       "      <td>Ford</td>\n",
       "      <td>Focus</td>\n",
       "      <td>Oneida</td>\n",
       "      <td>13601</td>\n",
       "      <td>BEV</td>\n",
       "      <td>Lease</td>\n",
       "      <td>2.76</td>\n",
       "      <td>592.89</td>\n",
       "      <td>1700</td>\n",
       "    </tr>\n",
       "    <tr>\n",
       "      <th>2</th>\n",
       "      <td>02/29/2020</td>\n",
       "      <td>04/26/2018</td>\n",
       "      <td>Ford</td>\n",
       "      <td>Focus</td>\n",
       "      <td>Suffolk</td>\n",
       "      <td>11776</td>\n",
       "      <td>BEV</td>\n",
       "      <td>Lease</td>\n",
       "      <td>2.76</td>\n",
       "      <td>592.89</td>\n",
       "      <td>1700</td>\n",
       "    </tr>\n",
       "    <tr>\n",
       "      <th>3</th>\n",
       "      <td>02/29/2020</td>\n",
       "      <td>08/30/2017</td>\n",
       "      <td>Ford</td>\n",
       "      <td>Focus</td>\n",
       "      <td>Nassau</td>\n",
       "      <td>11756</td>\n",
       "      <td>BEV</td>\n",
       "      <td>Lease</td>\n",
       "      <td>2.76</td>\n",
       "      <td>592.89</td>\n",
       "      <td>1700</td>\n",
       "    </tr>\n",
       "    <tr>\n",
       "      <th>4</th>\n",
       "      <td>02/29/2020</td>\n",
       "      <td>05/29/2018</td>\n",
       "      <td>Ford</td>\n",
       "      <td>Focus</td>\n",
       "      <td>Onondaga</td>\n",
       "      <td>13039</td>\n",
       "      <td>BEV</td>\n",
       "      <td>Purchase</td>\n",
       "      <td>2.76</td>\n",
       "      <td>592.89</td>\n",
       "      <td>1700</td>\n",
       "    </tr>\n",
       "  </tbody>\n",
       "</table>\n",
       "</div>"
      ],
      "text/plain": [
       "  Data through Date Submitted Date  Make  Model       County    ZIP EV Type  \\\n",
       "0        02/29/2020     01/13/2018  Ford  Focus  Westchester  10598     BEV   \n",
       "1        02/29/2020     09/25/2017  Ford  Focus       Oneida  13601     BEV   \n",
       "2        02/29/2020     04/26/2018  Ford  Focus      Suffolk  11776     BEV   \n",
       "3        02/29/2020     08/30/2017  Ford  Focus       Nassau  11756     BEV   \n",
       "4        02/29/2020     05/29/2018  Ford  Focus     Onondaga  13039     BEV   \n",
       "\n",
       "  Transaction Type  Annual GHG Emissions Reductions (MT CO2e)  \\\n",
       "0            Lease                                       2.76   \n",
       "1            Lease                                       2.76   \n",
       "2            Lease                                       2.76   \n",
       "3            Lease                                       2.76   \n",
       "4         Purchase                                       2.76   \n",
       "\n",
       "   Annual Petroleum Reductions (gallons)  Rebate Amount (USD)  \n",
       "0                                 592.89                 1700  \n",
       "1                                 592.89                 1700  \n",
       "2                                 592.89                 1700  \n",
       "3                                 592.89                 1700  \n",
       "4                                 592.89                 1700  "
      ]
     },
     "execution_count": 90,
     "metadata": {},
     "output_type": "execute_result"
    }
   ],
   "source": [
    "df.head()"
   ]
  },
  {
   "cell_type": "code",
   "execution_count": 91,
   "id": "4acd18e9-4fbb-41e7-969c-c17fe1c778bb",
   "metadata": {},
   "outputs": [
    {
     "data": {
      "text/plain": [
       "20"
      ]
     },
     "execution_count": 91,
     "metadata": {},
     "output_type": "execute_result"
    }
   ],
   "source": [
    "df[\"Make\"].nunique()"
   ]
  },
  {
   "cell_type": "code",
   "execution_count": 92,
   "id": "2b9e282b-e951-4269-98ea-4262b686072a",
   "metadata": {},
   "outputs": [
    {
     "data": {
      "text/plain": [
       "45"
      ]
     },
     "execution_count": 92,
     "metadata": {},
     "output_type": "execute_result"
    }
   ],
   "source": [
    "df[\"Model\"].nunique()"
   ]
  },
  {
   "cell_type": "code",
   "execution_count": 93,
   "id": "e696465c-fab9-4ba1-9a33-c407221e94e5",
   "metadata": {},
   "outputs": [],
   "source": [
    "index=df[\"EV Type\"].value_counts().index"
   ]
  },
  {
   "cell_type": "code",
   "execution_count": 94,
   "id": "e3c38cde-c483-4238-9c19-54de6fa6f4dd",
   "metadata": {},
   "outputs": [],
   "source": [
    "value=df[\"EV Type\"].value_counts()"
   ]
  },
  {
   "cell_type": "code",
   "execution_count": 95,
   "id": "b4fe2257-fbb6-47e8-88cf-a24b4977c74b",
   "metadata": {},
   "outputs": [
    {
     "data": {
      "text/plain": [
       "([<matplotlib.patches.Wedge at 0x22ab600d460>,\n",
       "  <matplotlib.patches.Wedge at 0x22ab600f7d0>],\n",
       " [Text(-0.4143645333588857, 1.0189710660731606, 'PHEV'),\n",
       "  Text(0.4143646287618397, -1.0189710272775487, 'BEV')],\n",
       " [Text(-0.2260170181957558, 0.5558023996762693, '62.2940%'),\n",
       "  Text(0.22601707023373072, -0.5558023785150266, '37.7061%')])"
      ]
     },
     "execution_count": 95,
     "metadata": {},
     "output_type": "execute_result"
    },
    {
     "data": {
      "image/png": "[encoded data removed]",
      "text/plain": [
       "<Figure size 640x480 with 1 Axes>"
      ]
     },
     "metadata": {},
     "output_type": "display_data"
    }
   ],
   "source": [
    "plt.pie(value,labels=index,autopct=\"%1.4f%%\")"
   ]
  },
  {
   "cell_type": "markdown",
   "id": "328918c8-128a-4152-814d-b45af64e5693",
   "metadata": {},
   "source": [
    "                                    #Conclusion:->\n",
    "                                    1.SO EV HAS MORE IN PHEV AS COMPARED TO BEV."
   ]
  },
  {
   "cell_type": "code",
   "execution_count": 96,
   "id": "8b0f1c87-f687-48e4-bd08-9cd185cd4b3d",
   "metadata": {},
   "outputs": [
    {
     "data": {
      "text/html": [
       "<div>\n",
       "<style scoped>\n",
       "    .dataframe tbody tr th:only-of-type {\n",
       "        vertical-align: middle;\n",
       "    }\n",
       "\n",
       "    .dataframe tbody tr th {\n",
       "        vertical-align: top;\n",
       "    }\n",
       "\n",
       "    .dataframe thead th {\n",
       "        text-align: right;\n",
       "    }\n",
       "</style>\n",
       "<table border=\"1\" class=\"dataframe\">\n",
       "  <thead>\n",
       "    <tr style=\"text-align: right;\">\n",
       "      <th></th>\n",
       "      <th>Data through Date</th>\n",
       "      <th>Submitted Date</th>\n",
       "      <th>Make</th>\n",
       "      <th>Model</th>\n",
       "      <th>County</th>\n",
       "      <th>ZIP</th>\n",
       "      <th>EV Type</th>\n",
       "      <th>Transaction Type</th>\n",
       "      <th>Annual GHG Emissions Reductions (MT CO2e)</th>\n",
       "      <th>Annual Petroleum Reductions (gallons)</th>\n",
       "      <th>Rebate Amount (USD)</th>\n",
       "    </tr>\n",
       "  </thead>\n",
       "  <tbody>\n",
       "    <tr>\n",
       "      <th>0</th>\n",
       "      <td>02/29/2020</td>\n",
       "      <td>01/13/2018</td>\n",
       "      <td>Ford</td>\n",
       "      <td>Focus</td>\n",
       "      <td>Westchester</td>\n",
       "      <td>10598</td>\n",
       "      <td>BEV</td>\n",
       "      <td>Lease</td>\n",
       "      <td>2.76</td>\n",
       "      <td>592.89</td>\n",
       "      <td>1700</td>\n",
       "    </tr>\n",
       "    <tr>\n",
       "      <th>1</th>\n",
       "      <td>02/29/2020</td>\n",
       "      <td>09/25/2017</td>\n",
       "      <td>Ford</td>\n",
       "      <td>Focus</td>\n",
       "      <td>Oneida</td>\n",
       "      <td>13601</td>\n",
       "      <td>BEV</td>\n",
       "      <td>Lease</td>\n",
       "      <td>2.76</td>\n",
       "      <td>592.89</td>\n",
       "      <td>1700</td>\n",
       "    </tr>\n",
       "    <tr>\n",
       "      <th>2</th>\n",
       "      <td>02/29/2020</td>\n",
       "      <td>04/26/2018</td>\n",
       "      <td>Ford</td>\n",
       "      <td>Focus</td>\n",
       "      <td>Suffolk</td>\n",
       "      <td>11776</td>\n",
       "      <td>BEV</td>\n",
       "      <td>Lease</td>\n",
       "      <td>2.76</td>\n",
       "      <td>592.89</td>\n",
       "      <td>1700</td>\n",
       "    </tr>\n",
       "    <tr>\n",
       "      <th>3</th>\n",
       "      <td>02/29/2020</td>\n",
       "      <td>08/30/2017</td>\n",
       "      <td>Ford</td>\n",
       "      <td>Focus</td>\n",
       "      <td>Nassau</td>\n",
       "      <td>11756</td>\n",
       "      <td>BEV</td>\n",
       "      <td>Lease</td>\n",
       "      <td>2.76</td>\n",
       "      <td>592.89</td>\n",
       "      <td>1700</td>\n",
       "    </tr>\n",
       "    <tr>\n",
       "      <th>4</th>\n",
       "      <td>02/29/2020</td>\n",
       "      <td>05/29/2018</td>\n",
       "      <td>Ford</td>\n",
       "      <td>Focus</td>\n",
       "      <td>Onondaga</td>\n",
       "      <td>13039</td>\n",
       "      <td>BEV</td>\n",
       "      <td>Purchase</td>\n",
       "      <td>2.76</td>\n",
       "      <td>592.89</td>\n",
       "      <td>1700</td>\n",
       "    </tr>\n",
       "  </tbody>\n",
       "</table>\n",
       "</div>"
      ],
      "text/plain": [
       "  Data through Date Submitted Date  Make  Model       County    ZIP EV Type  \\\n",
       "0        02/29/2020     01/13/2018  Ford  Focus  Westchester  10598     BEV   \n",
       "1        02/29/2020     09/25/2017  Ford  Focus       Oneida  13601     BEV   \n",
       "2        02/29/2020     04/26/2018  Ford  Focus      Suffolk  11776     BEV   \n",
       "3        02/29/2020     08/30/2017  Ford  Focus       Nassau  11756     BEV   \n",
       "4        02/29/2020     05/29/2018  Ford  Focus     Onondaga  13039     BEV   \n",
       "\n",
       "  Transaction Type  Annual GHG Emissions Reductions (MT CO2e)  \\\n",
       "0            Lease                                       2.76   \n",
       "1            Lease                                       2.76   \n",
       "2            Lease                                       2.76   \n",
       "3            Lease                                       2.76   \n",
       "4         Purchase                                       2.76   \n",
       "\n",
       "   Annual Petroleum Reductions (gallons)  Rebate Amount (USD)  \n",
       "0                                 592.89                 1700  \n",
       "1                                 592.89                 1700  \n",
       "2                                 592.89                 1700  \n",
       "3                                 592.89                 1700  \n",
       "4                                 592.89                 1700  "
      ]
     },
     "execution_count": 96,
     "metadata": {},
     "output_type": "execute_result"
    }
   ],
   "source": [
    "df.head()"
   ]
  },
  {
   "cell_type": "markdown",
   "id": "7de2fa81-6de9-46f4-a7f5-19a7eb7fd730",
   "metadata": {},
   "source": [
    "#DATA PREPROCESSING."
   ]
  },
  {
   "cell_type": "code",
   "execution_count": 97,
   "id": "aed9a03e-f885-4932-986c-47b3a937486d",
   "metadata": {},
   "outputs": [
    {
     "data": {
      "text/plain": [
       "<Axes: xlabel='EV Type', ylabel='Rebate Amount (USD)'>"
      ]
     },
     "execution_count": 97,
     "metadata": {},
     "output_type": "execute_result"
    },
    {
     "data": {
      "image/png": "[encoded data removed]",
      "text/plain": [
       "<Figure size 640x480 with 1 Axes>"
      ]
     },
     "metadata": {},
     "output_type": "display_data"
    }
   ],
   "source": [
    "sns.barplot(x=df[\"EV Type\"],y=df[\"Rebate Amount (USD)\"])\n",
    "            "
   ]
  },
  {
   "cell_type": "code",
   "execution_count": 98,
   "id": "151b6cb9-1662-4cf4-96fd-8b8d9ee77f9f",
   "metadata": {},
   "outputs": [],
   "source": [
    "df.drop(\"Data through Date\",axis=1,inplace=True)"
   ]
  },
  {
   "cell_type": "code",
   "execution_count": 99,
   "id": "34ed326c-1103-408d-b192-00e3f4c445e3",
   "metadata": {},
   "outputs": [
    {
     "data": {
      "text/html": [
       "<div>\n",
       "<style scoped>\n",
       "    .dataframe tbody tr th:only-of-type {\n",
       "        vertical-align: middle;\n",
       "    }\n",
       "\n",
       "    .dataframe tbody tr th {\n",
       "        vertical-align: top;\n",
       "    }\n",
       "\n",
       "    .dataframe thead th {\n",
       "        text-align: right;\n",
       "    }\n",
       "</style>\n",
       "<table border=\"1\" class=\"dataframe\">\n",
       "  <thead>\n",
       "    <tr style=\"text-align: right;\">\n",
       "      <th></th>\n",
       "      <th>Submitted Date</th>\n",
       "      <th>Make</th>\n",
       "      <th>Model</th>\n",
       "      <th>County</th>\n",
       "      <th>ZIP</th>\n",
       "      <th>EV Type</th>\n",
       "      <th>Transaction Type</th>\n",
       "      <th>Annual GHG Emissions Reductions (MT CO2e)</th>\n",
       "      <th>Annual Petroleum Reductions (gallons)</th>\n",
       "      <th>Rebate Amount (USD)</th>\n",
       "    </tr>\n",
       "  </thead>\n",
       "  <tbody>\n",
       "    <tr>\n",
       "      <th>0</th>\n",
       "      <td>01/13/2018</td>\n",
       "      <td>Ford</td>\n",
       "      <td>Focus</td>\n",
       "      <td>Westchester</td>\n",
       "      <td>10598</td>\n",
       "      <td>BEV</td>\n",
       "      <td>Lease</td>\n",
       "      <td>2.76</td>\n",
       "      <td>592.89</td>\n",
       "      <td>1700</td>\n",
       "    </tr>\n",
       "    <tr>\n",
       "      <th>1</th>\n",
       "      <td>09/25/2017</td>\n",
       "      <td>Ford</td>\n",
       "      <td>Focus</td>\n",
       "      <td>Oneida</td>\n",
       "      <td>13601</td>\n",
       "      <td>BEV</td>\n",
       "      <td>Lease</td>\n",
       "      <td>2.76</td>\n",
       "      <td>592.89</td>\n",
       "      <td>1700</td>\n",
       "    </tr>\n",
       "    <tr>\n",
       "      <th>2</th>\n",
       "      <td>04/26/2018</td>\n",
       "      <td>Ford</td>\n",
       "      <td>Focus</td>\n",
       "      <td>Suffolk</td>\n",
       "      <td>11776</td>\n",
       "      <td>BEV</td>\n",
       "      <td>Lease</td>\n",
       "      <td>2.76</td>\n",
       "      <td>592.89</td>\n",
       "      <td>1700</td>\n",
       "    </tr>\n",
       "    <tr>\n",
       "      <th>3</th>\n",
       "      <td>08/30/2017</td>\n",
       "      <td>Ford</td>\n",
       "      <td>Focus</td>\n",
       "      <td>Nassau</td>\n",
       "      <td>11756</td>\n",
       "      <td>BEV</td>\n",
       "      <td>Lease</td>\n",
       "      <td>2.76</td>\n",
       "      <td>592.89</td>\n",
       "      <td>1700</td>\n",
       "    </tr>\n",
       "    <tr>\n",
       "      <th>4</th>\n",
       "      <td>05/29/2018</td>\n",
       "      <td>Ford</td>\n",
       "      <td>Focus</td>\n",
       "      <td>Onondaga</td>\n",
       "      <td>13039</td>\n",
       "      <td>BEV</td>\n",
       "      <td>Purchase</td>\n",
       "      <td>2.76</td>\n",
       "      <td>592.89</td>\n",
       "      <td>1700</td>\n",
       "    </tr>\n",
       "  </tbody>\n",
       "</table>\n",
       "</div>"
      ],
      "text/plain": [
       "  Submitted Date  Make  Model       County    ZIP EV Type Transaction Type  \\\n",
       "0     01/13/2018  Ford  Focus  Westchester  10598     BEV            Lease   \n",
       "1     09/25/2017  Ford  Focus       Oneida  13601     BEV            Lease   \n",
       "2     04/26/2018  Ford  Focus      Suffolk  11776     BEV            Lease   \n",
       "3     08/30/2017  Ford  Focus       Nassau  11756     BEV            Lease   \n",
       "4     05/29/2018  Ford  Focus     Onondaga  13039     BEV         Purchase   \n",
       "\n",
       "   Annual GHG Emissions Reductions (MT CO2e)  \\\n",
       "0                                       2.76   \n",
       "1                                       2.76   \n",
       "2                                       2.76   \n",
       "3                                       2.76   \n",
       "4                                       2.76   \n",
       "\n",
       "   Annual Petroleum Reductions (gallons)  Rebate Amount (USD)  \n",
       "0                                 592.89                 1700  \n",
       "1                                 592.89                 1700  \n",
       "2                                 592.89                 1700  \n",
       "3                                 592.89                 1700  \n",
       "4                                 592.89                 1700  "
      ]
     },
     "execution_count": 99,
     "metadata": {},
     "output_type": "execute_result"
    }
   ],
   "source": [
    "df.head()"
   ]
  },
  {
   "cell_type": "code",
   "execution_count": 100,
   "id": "18b15eca-260c-4454-8886-60ba119268ab",
   "metadata": {},
   "outputs": [
    {
     "data": {
      "text/plain": [
       "<Axes: xlabel='Transaction Type', ylabel='Model'>"
      ]
     },
     "execution_count": 100,
     "metadata": {},
     "output_type": "execute_result"
    },
    {
     "data": {
      "image/png": "[encoded data removed]",
      "text/plain": [
       "<Figure size 640x480 with 1 Axes>"
      ]
     },
     "metadata": {},
     "output_type": "display_data"
    }
   ],
   "source": [
    "sns.barplot(x=df[\"Transaction Type\"],y=df[\"Model\"])"
   ]
  },
  {
   "cell_type": "code",
   "execution_count": 101,
   "id": "ffa030b3-2dff-4275-afeb-e74f53f422b9",
   "metadata": {},
   "outputs": [
    {
     "data": {
      "text/html": [
       "<div>\n",
       "<style scoped>\n",
       "    .dataframe tbody tr th:only-of-type {\n",
       "        vertical-align: middle;\n",
       "    }\n",
       "\n",
       "    .dataframe tbody tr th {\n",
       "        vertical-align: top;\n",
       "    }\n",
       "\n",
       "    .dataframe thead th {\n",
       "        text-align: right;\n",
       "    }\n",
       "</style>\n",
       "<table border=\"1\" class=\"dataframe\">\n",
       "  <thead>\n",
       "    <tr style=\"text-align: right;\">\n",
       "      <th></th>\n",
       "      <th>Submitted Date</th>\n",
       "      <th>Make</th>\n",
       "      <th>Model</th>\n",
       "      <th>County</th>\n",
       "      <th>ZIP</th>\n",
       "      <th>EV Type</th>\n",
       "      <th>Transaction Type</th>\n",
       "      <th>Annual GHG Emissions Reductions (MT CO2e)</th>\n",
       "      <th>Annual Petroleum Reductions (gallons)</th>\n",
       "      <th>Rebate Amount (USD)</th>\n",
       "    </tr>\n",
       "  </thead>\n",
       "  <tbody>\n",
       "    <tr>\n",
       "      <th>0</th>\n",
       "      <td>01/13/2018</td>\n",
       "      <td>Ford</td>\n",
       "      <td>Focus</td>\n",
       "      <td>Westchester</td>\n",
       "      <td>10598</td>\n",
       "      <td>BEV</td>\n",
       "      <td>Lease</td>\n",
       "      <td>2.76</td>\n",
       "      <td>592.89</td>\n",
       "      <td>1700</td>\n",
       "    </tr>\n",
       "    <tr>\n",
       "      <th>1</th>\n",
       "      <td>09/25/2017</td>\n",
       "      <td>Ford</td>\n",
       "      <td>Focus</td>\n",
       "      <td>Oneida</td>\n",
       "      <td>13601</td>\n",
       "      <td>BEV</td>\n",
       "      <td>Lease</td>\n",
       "      <td>2.76</td>\n",
       "      <td>592.89</td>\n",
       "      <td>1700</td>\n",
       "    </tr>\n",
       "    <tr>\n",
       "      <th>2</th>\n",
       "      <td>04/26/2018</td>\n",
       "      <td>Ford</td>\n",
       "      <td>Focus</td>\n",
       "      <td>Suffolk</td>\n",
       "      <td>11776</td>\n",
       "      <td>BEV</td>\n",
       "      <td>Lease</td>\n",
       "      <td>2.76</td>\n",
       "      <td>592.89</td>\n",
       "      <td>1700</td>\n",
       "    </tr>\n",
       "    <tr>\n",
       "      <th>3</th>\n",
       "      <td>08/30/2017</td>\n",
       "      <td>Ford</td>\n",
       "      <td>Focus</td>\n",
       "      <td>Nassau</td>\n",
       "      <td>11756</td>\n",
       "      <td>BEV</td>\n",
       "      <td>Lease</td>\n",
       "      <td>2.76</td>\n",
       "      <td>592.89</td>\n",
       "      <td>1700</td>\n",
       "    </tr>\n",
       "    <tr>\n",
       "      <th>4</th>\n",
       "      <td>05/29/2018</td>\n",
       "      <td>Ford</td>\n",
       "      <td>Focus</td>\n",
       "      <td>Onondaga</td>\n",
       "      <td>13039</td>\n",
       "      <td>BEV</td>\n",
       "      <td>Purchase</td>\n",
       "      <td>2.76</td>\n",
       "      <td>592.89</td>\n",
       "      <td>1700</td>\n",
       "    </tr>\n",
       "  </tbody>\n",
       "</table>\n",
       "</div>"
      ],
      "text/plain": [
       "  Submitted Date  Make  Model       County    ZIP EV Type Transaction Type  \\\n",
       "0     01/13/2018  Ford  Focus  Westchester  10598     BEV            Lease   \n",
       "1     09/25/2017  Ford  Focus       Oneida  13601     BEV            Lease   \n",
       "2     04/26/2018  Ford  Focus      Suffolk  11776     BEV            Lease   \n",
       "3     08/30/2017  Ford  Focus       Nassau  11756     BEV            Lease   \n",
       "4     05/29/2018  Ford  Focus     Onondaga  13039     BEV         Purchase   \n",
       "\n",
       "   Annual GHG Emissions Reductions (MT CO2e)  \\\n",
       "0                                       2.76   \n",
       "1                                       2.76   \n",
       "2                                       2.76   \n",
       "3                                       2.76   \n",
       "4                                       2.76   \n",
       "\n",
       "   Annual Petroleum Reductions (gallons)  Rebate Amount (USD)  \n",
       "0                                 592.89                 1700  \n",
       "1                                 592.89                 1700  \n",
       "2                                 592.89                 1700  \n",
       "3                                 592.89                 1700  \n",
       "4                                 592.89                 1700  "
      ]
     },
     "execution_count": 101,
     "metadata": {},
     "output_type": "execute_result"
    }
   ],
   "source": [
    "df.head()"
   ]
  },
  {
   "cell_type": "code",
   "execution_count": 102,
   "id": "d6593604-3d43-4b5f-9f56-c70a125d9cde",
   "metadata": {},
   "outputs": [
    {
     "name": "stdout",
     "output_type": "stream",
     "text": [
      "Correlation between rebate amount and GHG emissions reductions: 0.5098600659348164\n"
     ]
    }
   ],
   "source": [
    "# Correlation between rebate amount and annual GHG emissions reductions\n",
    "correlation = df['Rebate Amount (USD)'].corr(df['Annual GHG Emissions Reductions (MT CO2e)'])\n",
    "print(f\"Correlation between rebate amount and GHG emissions reductions: {correlation}\")"
   ]
  },
  {
   "cell_type": "code",
   "execution_count": 103,
   "id": "1137dc6e-fec0-4f40-9fb4-8a20dd5c5823",
   "metadata": {},
   "outputs": [
    {
     "name": "stdout",
     "output_type": "stream",
     "text": [
      "EV Type\n",
      "BEV     1718.745708\n",
      "PHEV    1221.342477\n",
      "Name: Rebate Amount (USD), dtype: float64\n"
     ]
    }
   ],
   "source": [
    "# Group by EV Type and calculate average rebate amount\n",
    "avg_rebate_by_ev_type = df.groupby('EV Type')['Rebate Amount (USD)'].mean()\n",
    "print(avg_rebate_by_ev_type)"
   ]
  },
  {
   "cell_type": "code",
   "execution_count": 104,
   "id": "a6847f93-7a72-4bbd-96e8-0f2156c21373",
   "metadata": {},
   "outputs": [
    {
     "data": {
      "image/png": "[encoded data removed]",
      "text/plain": [
       "<Figure size 1000x600 with 1 Axes>"
      ]
     },
     "metadata": {},
     "output_type": "display_data"
    }
   ],
   "source": [
    "\n",
    "\n",
    "# Plot the distribution of rebate amounts\n",
    "plt.figure(figsize=(10, 6))\n",
    "sns.histplot(df['Rebate Amount (USD)'], bins=30, kde=True)\n",
    "plt.title('Distribution of Rebate Amounts')\n",
    "plt.xlabel('Rebate Amount (USD)')\n",
    "plt.ylabel('Frequency')\n",
    "plt.show()"
   ]
  },
  {
   "cell_type": "code",
   "execution_count": 105,
   "id": "abef6ccc-51e0-4053-bca9-2a4665d9db8a",
   "metadata": {},
   "outputs": [
    {
     "data": {
      "text/html": [
       "<div>\n",
       "<style scoped>\n",
       "    .dataframe tbody tr th:only-of-type {\n",
       "        vertical-align: middle;\n",
       "    }\n",
       "\n",
       "    .dataframe tbody tr th {\n",
       "        vertical-align: top;\n",
       "    }\n",
       "\n",
       "    .dataframe thead th {\n",
       "        text-align: right;\n",
       "    }\n",
       "</style>\n",
       "<table border=\"1\" class=\"dataframe\">\n",
       "  <thead>\n",
       "    <tr style=\"text-align: right;\">\n",
       "      <th></th>\n",
       "      <th>Submitted Date</th>\n",
       "      <th>Make</th>\n",
       "      <th>Model</th>\n",
       "      <th>County</th>\n",
       "      <th>ZIP</th>\n",
       "      <th>EV Type</th>\n",
       "      <th>Transaction Type</th>\n",
       "      <th>Annual GHG Emissions Reductions (MT CO2e)</th>\n",
       "      <th>Annual Petroleum Reductions (gallons)</th>\n",
       "      <th>Rebate Amount (USD)</th>\n",
       "    </tr>\n",
       "  </thead>\n",
       "  <tbody>\n",
       "    <tr>\n",
       "      <th>0</th>\n",
       "      <td>01/13/2018</td>\n",
       "      <td>Ford</td>\n",
       "      <td>Focus</td>\n",
       "      <td>Westchester</td>\n",
       "      <td>10598</td>\n",
       "      <td>BEV</td>\n",
       "      <td>Lease</td>\n",
       "      <td>2.76</td>\n",
       "      <td>592.89</td>\n",
       "      <td>1700</td>\n",
       "    </tr>\n",
       "    <tr>\n",
       "      <th>1</th>\n",
       "      <td>09/25/2017</td>\n",
       "      <td>Ford</td>\n",
       "      <td>Focus</td>\n",
       "      <td>Oneida</td>\n",
       "      <td>13601</td>\n",
       "      <td>BEV</td>\n",
       "      <td>Lease</td>\n",
       "      <td>2.76</td>\n",
       "      <td>592.89</td>\n",
       "      <td>1700</td>\n",
       "    </tr>\n",
       "    <tr>\n",
       "      <th>2</th>\n",
       "      <td>04/26/2018</td>\n",
       "      <td>Ford</td>\n",
       "      <td>Focus</td>\n",
       "      <td>Suffolk</td>\n",
       "      <td>11776</td>\n",
       "      <td>BEV</td>\n",
       "      <td>Lease</td>\n",
       "      <td>2.76</td>\n",
       "      <td>592.89</td>\n",
       "      <td>1700</td>\n",
       "    </tr>\n",
       "    <tr>\n",
       "      <th>3</th>\n",
       "      <td>08/30/2017</td>\n",
       "      <td>Ford</td>\n",
       "      <td>Focus</td>\n",
       "      <td>Nassau</td>\n",
       "      <td>11756</td>\n",
       "      <td>BEV</td>\n",
       "      <td>Lease</td>\n",
       "      <td>2.76</td>\n",
       "      <td>592.89</td>\n",
       "      <td>1700</td>\n",
       "    </tr>\n",
       "    <tr>\n",
       "      <th>4</th>\n",
       "      <td>05/29/2018</td>\n",
       "      <td>Ford</td>\n",
       "      <td>Focus</td>\n",
       "      <td>Onondaga</td>\n",
       "      <td>13039</td>\n",
       "      <td>BEV</td>\n",
       "      <td>Purchase</td>\n",
       "      <td>2.76</td>\n",
       "      <td>592.89</td>\n",
       "      <td>1700</td>\n",
       "    </tr>\n",
       "  </tbody>\n",
       "</table>\n",
       "</div>"
      ],
      "text/plain": [
       "  Submitted Date  Make  Model       County    ZIP EV Type Transaction Type  \\\n",
       "0     01/13/2018  Ford  Focus  Westchester  10598     BEV            Lease   \n",
       "1     09/25/2017  Ford  Focus       Oneida  13601     BEV            Lease   \n",
       "2     04/26/2018  Ford  Focus      Suffolk  11776     BEV            Lease   \n",
       "3     08/30/2017  Ford  Focus       Nassau  11756     BEV            Lease   \n",
       "4     05/29/2018  Ford  Focus     Onondaga  13039     BEV         Purchase   \n",
       "\n",
       "   Annual GHG Emissions Reductions (MT CO2e)  \\\n",
       "0                                       2.76   \n",
       "1                                       2.76   \n",
       "2                                       2.76   \n",
       "3                                       2.76   \n",
       "4                                       2.76   \n",
       "\n",
       "   Annual Petroleum Reductions (gallons)  Rebate Amount (USD)  \n",
       "0                                 592.89                 1700  \n",
       "1                                 592.89                 1700  \n",
       "2                                 592.89                 1700  \n",
       "3                                 592.89                 1700  \n",
       "4                                 592.89                 1700  "
      ]
     },
     "execution_count": 105,
     "metadata": {},
     "output_type": "execute_result"
    }
   ],
   "source": [
    "df.head()"
   ]
  },
  {
   "cell_type": "code",
   "execution_count": 106,
   "id": "ea29f86b-4e3e-4ade-8248-7f82874e5bb3",
   "metadata": {},
   "outputs": [
    {
     "name": "stdout",
     "output_type": "stream",
     "text": [
      "<class 'pandas.core.frame.DataFrame'>\n",
      "RangeIndex: 23174 entries, 0 to 23173\n",
      "Data columns (total 10 columns):\n",
      " #   Column                                     Non-Null Count  Dtype  \n",
      "---  ------                                     --------------  -----  \n",
      " 0   Submitted Date                             23174 non-null  object \n",
      " 1   Make                                       23174 non-null  object \n",
      " 2   Model                                      23174 non-null  object \n",
      " 3   County                                     23174 non-null  object \n",
      " 4   ZIP                                        23174 non-null  int64  \n",
      " 5   EV Type                                    23174 non-null  object \n",
      " 6   Transaction Type                           23174 non-null  object \n",
      " 7   Annual GHG Emissions Reductions (MT CO2e)  23174 non-null  float64\n",
      " 8   Annual Petroleum Reductions (gallons)      23174 non-null  float64\n",
      " 9   Rebate Amount (USD)                        23174 non-null  int64  \n",
      "dtypes: float64(2), int64(2), object(6)\n",
      "memory usage: 1.8+ MB\n"
     ]
    }
   ],
   "source": [
    "df.info()"
   ]
  },
  {
   "cell_type": "code",
   "execution_count": 107,
   "id": "bd39c2d1-bada-438d-9cc0-993b4a0a9b20",
   "metadata": {},
   "outputs": [],
   "source": [
    "from sklearn.preprocessing import LabelEncoder"
   ]
  },
  {
   "cell_type": "code",
   "execution_count": 108,
   "id": "5739151b-d511-42dc-a407-a56630f4af9f",
   "metadata": {},
   "outputs": [],
   "source": [
    "lr=LabelEncoder()"
   ]
  },
  {
   "cell_type": "code",
   "execution_count": 109,
   "id": "fe8d2802-428b-40f2-b244-9f07d748bbe1",
   "metadata": {},
   "outputs": [],
   "source": [
    "df[\"Submitted Date\"]=lr.fit_transform(df[\"Submitted Date\"])"
   ]
  },
  {
   "cell_type": "code",
   "execution_count": 110,
   "id": "36743528-dfef-4d41-8d55-691b7028c46d",
   "metadata": {},
   "outputs": [],
   "source": [
    "df[\"Make\"]=lr.fit_transform(df[\"Make\"])"
   ]
  },
  {
   "cell_type": "code",
   "execution_count": 111,
   "id": "251f0202-04cd-4179-b825-74e4f87356c3",
   "metadata": {},
   "outputs": [],
   "source": [
    "df[\"Model\"]=lr.fit_transform(df[\"Model\"])"
   ]
  },
  {
   "cell_type": "code",
   "execution_count": 112,
   "id": "03fc3d83-1c89-4103-af88-482eafeb701a",
   "metadata": {},
   "outputs": [],
   "source": [
    "df[\"County\"]=lr.fit_transform(df[\"County\"])"
   ]
  },
  {
   "cell_type": "code",
   "execution_count": 113,
   "id": "df628df3-afa1-45d9-9cf7-dedff5571fb5",
   "metadata": {},
   "outputs": [],
   "source": [
    "df[\"ZIP\"]=lr.fit_transform(df[\"ZIP\"])"
   ]
  },
  {
   "cell_type": "code",
   "execution_count": 114,
   "id": "7e111c6a-fb88-4343-9c2d-aa0643daa3a4",
   "metadata": {},
   "outputs": [],
   "source": [
    "df[\"EV Type\"]=lr.fit_transform(df[\"EV Type\"])"
   ]
  },
  {
   "cell_type": "code",
   "execution_count": 115,
   "id": "4e1d8e43-894f-4eba-bf04-5b8af4164790",
   "metadata": {},
   "outputs": [],
   "source": [
    "df[\"Transaction Type\"]=lr.fit_transform(df[\"Transaction Type\"])"
   ]
  },
  {
   "cell_type": "code",
   "execution_count": 116,
   "id": "694f1167-886e-4783-8ef8-426ffbed2bb5",
   "metadata": {},
   "outputs": [],
   "source": [
    "df[\"Annual GHG Emissions Reductions (MT CO2e)\"]=lr.fit_transform(df[\"Annual GHG Emissions Reductions (MT CO2e)\"])"
   ]
  },
  {
   "cell_type": "code",
   "execution_count": 117,
   "id": "9d8a72fd-82d4-4394-96fc-dbe819b1f634",
   "metadata": {},
   "outputs": [],
   "source": [
    "df[\"Annual Petroleum Reductions (gallons)\"]=lr.fit_transform(df[\"Annual Petroleum Reductions (gallons)\"])"
   ]
  },
  {
   "cell_type": "code",
   "execution_count": 121,
   "id": "89fc1311-57ab-48b5-ac79-faf7066826c4",
   "metadata": {},
   "outputs": [],
   "source": [
    "df[\" Rebate Amount (USD)\"]=lr.fit_transform(df[\"Rebate Amount (USD)\"])"
   ]
  },
  {
   "cell_type": "code",
   "execution_count": 119,
   "id": "3191e01e-0b0f-4e51-97e0-1b6da4b528ae",
   "metadata": {},
   "outputs": [
    {
     "data": {
      "text/html": [
       "<div>\n",
       "<style scoped>\n",
       "    .dataframe tbody tr th:only-of-type {\n",
       "        vertical-align: middle;\n",
       "    }\n",
       "\n",
       "    .dataframe tbody tr th {\n",
       "        vertical-align: top;\n",
       "    }\n",
       "\n",
       "    .dataframe thead th {\n",
       "        text-align: right;\n",
       "    }\n",
       "</style>\n",
       "<table border=\"1\" class=\"dataframe\">\n",
       "  <thead>\n",
       "    <tr style=\"text-align: right;\">\n",
       "      <th></th>\n",
       "      <th>Submitted Date</th>\n",
       "      <th>Make</th>\n",
       "      <th>Model</th>\n",
       "      <th>County</th>\n",
       "      <th>ZIP</th>\n",
       "      <th>EV Type</th>\n",
       "      <th>Transaction Type</th>\n",
       "      <th>Annual GHG Emissions Reductions (MT CO2e)</th>\n",
       "      <th>Annual Petroleum Reductions (gallons)</th>\n",
       "      <th>Rebate Amount (USD)</th>\n",
       "      <th>Rebate Amount (USD)2</th>\n",
       "    </tr>\n",
       "  </thead>\n",
       "  <tbody>\n",
       "    <tr>\n",
       "      <th>0</th>\n",
       "      <td>34</td>\n",
       "      <td>4</td>\n",
       "      <td>14</td>\n",
       "      <td>59</td>\n",
       "      <td>137</td>\n",
       "      <td>0</td>\n",
       "      <td>0</td>\n",
       "      <td>41</td>\n",
       "      <td>32</td>\n",
       "      <td>1700</td>\n",
       "      <td>2</td>\n",
       "    </tr>\n",
       "    <tr>\n",
       "      <th>1</th>\n",
       "      <td>715</td>\n",
       "      <td>4</td>\n",
       "      <td>14</td>\n",
       "      <td>32</td>\n",
       "      <td>988</td>\n",
       "      <td>0</td>\n",
       "      <td>0</td>\n",
       "      <td>41</td>\n",
       "      <td>32</td>\n",
       "      <td>1700</td>\n",
       "      <td>2</td>\n",
       "    </tr>\n",
       "    <tr>\n",
       "      <th>2</th>\n",
       "      <td>299</td>\n",
       "      <td>4</td>\n",
       "      <td>14</td>\n",
       "      <td>51</td>\n",
       "      <td>416</td>\n",
       "      <td>0</td>\n",
       "      <td>0</td>\n",
       "      <td>41</td>\n",
       "      <td>32</td>\n",
       "      <td>1700</td>\n",
       "      <td>2</td>\n",
       "    </tr>\n",
       "    <tr>\n",
       "      <th>3</th>\n",
       "      <td>643</td>\n",
       "      <td>4</td>\n",
       "      <td>14</td>\n",
       "      <td>29</td>\n",
       "      <td>401</td>\n",
       "      <td>0</td>\n",
       "      <td>0</td>\n",
       "      <td>41</td>\n",
       "      <td>32</td>\n",
       "      <td>1700</td>\n",
       "      <td>2</td>\n",
       "    </tr>\n",
       "    <tr>\n",
       "      <th>4</th>\n",
       "      <td>390</td>\n",
       "      <td>4</td>\n",
       "      <td>14</td>\n",
       "      <td>33</td>\n",
       "      <td>851</td>\n",
       "      <td>0</td>\n",
       "      <td>1</td>\n",
       "      <td>41</td>\n",
       "      <td>32</td>\n",
       "      <td>1700</td>\n",
       "      <td>2</td>\n",
       "    </tr>\n",
       "  </tbody>\n",
       "</table>\n",
       "</div>"
      ],
      "text/plain": [
       "   Submitted Date  Make  Model  County  ZIP  EV Type  Transaction Type  \\\n",
       "0              34     4     14      59  137        0                 0   \n",
       "1             715     4     14      32  988        0                 0   \n",
       "2             299     4     14      51  416        0                 0   \n",
       "3             643     4     14      29  401        0                 0   \n",
       "4             390     4     14      33  851        0                 1   \n",
       "\n",
       "   Annual GHG Emissions Reductions (MT CO2e)  \\\n",
       "0                                         41   \n",
       "1                                         41   \n",
       "2                                         41   \n",
       "3                                         41   \n",
       "4                                         41   \n",
       "\n",
       "   Annual Petroleum Reductions (gallons)  Rebate Amount (USD)  \\\n",
       "0                                     32                 1700   \n",
       "1                                     32                 1700   \n",
       "2                                     32                 1700   \n",
       "3                                     32                 1700   \n",
       "4                                     32                 1700   \n",
       "\n",
       "    Rebate Amount (USD)2  \n",
       "0                      2  \n",
       "1                      2  \n",
       "2                      2  \n",
       "3                      2  \n",
       "4                      2  "
      ]
     },
     "execution_count": 119,
     "metadata": {},
     "output_type": "execute_result"
    }
   ],
   "source": [
    "df.head()"
   ]
  },
  {
   "cell_type": "code",
   "execution_count": 120,
   "id": "96f3eda5-e85b-4ff5-8ed8-7b8d7cc3f18d",
   "metadata": {},
   "outputs": [],
   "source": [
    "from sklearn.model_selection import train_test_split"
   ]
  },
  {
   "cell_type": "code",
   "execution_count": 125,
   "id": "2a52b29d-ed6d-4d21-a44a-6b10a97dbf85",
   "metadata": {},
   "outputs": [],
   "source": [
    "X=df.drop(\"Rebate Amount (USD)\",axis=1)\n",
    "y=df[\"Rebate Amount (USD)\"]"
   ]
  },
  {
   "cell_type": "code",
   "execution_count": 126,
   "id": "414d8b2d-4df3-4906-a160-a3ece15a41dc",
   "metadata": {},
   "outputs": [],
   "source": [
    "X_train, X_test, y_train, y_test = train_test_split(X, y, test_size=0.2, random_state=42)"
   ]
  },
  {
   "cell_type": "code",
   "execution_count": 127,
   "id": "58bf5a28-a150-4673-9f2a-9a452dd03cad",
   "metadata": {},
   "outputs": [],
   "source": [
    "from sklearn.neighbors import KNeighborsClassifier"
   ]
  },
  {
   "cell_type": "code",
   "execution_count": 128,
   "id": "cd3c00f2-3efd-4418-9c45-af83df1176a7",
   "metadata": {},
   "outputs": [],
   "source": [
    "knn=KNeighborsClassifier()"
   ]
  },
  {
   "cell_type": "code",
   "execution_count": 129,
   "id": "7ee77cc5-5694-43c3-88de-b68d5ff8b3a6",
   "metadata": {},
   "outputs": [
    {
     "data": {
      "text/html": [
       "<style>#sk-container-id-1 {color: black;}#sk-container-id-1 pre{padding: 0;}#sk-container-id-1 div.sk-toggleable {background-color: white;}#sk-container-id-1 label.sk-toggleable__label {cursor: pointer;display: block;width: 100%;margin-bottom: 0;padding: 0.3em;box-sizing: border-box;text-align: center;}#sk-container-id-1 label.sk-toggleable__label-arrow:before {content: \"▸\";float: left;margin-right: 0.25em;color: #696969;}#sk-container-id-1 label.sk-toggleable__label-arrow:hover:before {color: black;}#sk-container-id-1 div.sk-estimator:hover label.sk-toggleable__label-arrow:before {color: black;}#sk-container-id-1 div.sk-toggleable__content {max-height: 0;max-width: 0;overflow: hidden;text-align: left;background-color: #f0f8ff;}#sk-container-id-1 div.sk-toggleable__content pre {margin: 0.2em;color: black;border-radius: 0.25em;background-color: #f0f8ff;}#sk-container-id-1 input.sk-toggleable__control:checked~div.sk-toggleable__content {max-height: 200px;max-width: 100%;overflow: auto;}#sk-container-id-1 input.sk-toggleable__control:checked~label.sk-toggleable__label-arrow:before {content: \"▾\";}#sk-container-id-1 div.sk-estimator input.sk-toggleable__control:checked~label.sk-toggleable__label {background-color: #d4ebff;}#sk-container-id-1 div.sk-label input.sk-toggleable__control:checked~label.sk-toggleable__label {background-color: #d4ebff;}#sk-container-id-1 input.sk-hidden--visually {border: 0;clip: rect(1px 1px 1px 1px);clip: rect(1px, 1px, 1px, 1px);height: 1px;margin: -1px;overflow: hidden;padding: 0;position: absolute;width: 1px;}#sk-container-id-1 div.sk-estimator {font-family: monospace;background-color: #f0f8ff;border: 1px dotted black;border-radius: 0.25em;box-sizing: border-box;margin-bottom: 0.5em;}#sk-container-id-1 div.sk-estimator:hover {background-color: #d4ebff;}#sk-container-id-1 div.sk-parallel-item::after {content: \"\";width: 100%;border-bottom: 1px solid gray;flex-grow: 1;}#sk-container-id-1 div.sk-label:hover label.sk-toggleable__label {background-color: #d4ebff;}#sk-container-id-1 div.sk-serial::before {content: \"\";position: absolute;border-left: 1px solid gray;box-sizing: border-box;top: 0;bottom: 0;left: 50%;z-index: 0;}#sk-container-id-1 div.sk-serial {display: flex;flex-direction: column;align-items: center;background-color: white;padding-right: 0.2em;padding-left: 0.2em;position: relative;}#sk-container-id-1 div.sk-item {position: relative;z-index: 1;}#sk-container-id-1 div.sk-parallel {display: flex;align-items: stretch;justify-content: center;background-color: white;position: relative;}#sk-container-id-1 div.sk-item::before, #sk-container-id-1 div.sk-parallel-item::before {content: \"\";position: absolute;border-left: 1px solid gray;box-sizing: border-box;top: 0;bottom: 0;left: 50%;z-index: -1;}#sk-container-id-1 div.sk-parallel-item {display: flex;flex-direction: column;z-index: 1;position: relative;background-color: white;}#sk-container-id-1 div.sk-parallel-item:first-child::after {align-self: flex-end;width: 50%;}#sk-container-id-1 div.sk-parallel-item:last-child::after {align-self: flex-start;width: 50%;}#sk-container-id-1 div.sk-parallel-item:only-child::after {width: 0;}#sk-container-id-1 div.sk-dashed-wrapped {border: 1px dashed gray;margin: 0 0.4em 0.5em 0.4em;box-sizing: border-box;padding-bottom: 0.4em;background-color: white;}#sk-container-id-1 div.sk-label label {font-family: monospace;font-weight: bold;display: inline-block;line-height: 1.2em;}#sk-container-id-1 div.sk-label-container {text-align: center;}#sk-container-id-1 div.sk-container {/* jupyter's `normalize.less` sets `[hidden] { display: none; }` but bootstrap.min.css set `[hidden] { display: none !important; }` so we also need the `!important` here to be able to override the default hidden behavior on the sphinx rendered scikit-learn.org. See: https://github.com/scikit-learn/scikit-learn/issues/21755 */display: inline-block !important;position: relative;}#sk-container-id-1 div.sk-text-repr-fallback {display: none;}</style><div id=\"sk-container-id-1\" class=\"sk-top-container\"><div class=\"sk-text-repr-fallback\"><pre>KNeighborsClassifier()</pre><b>In a Jupyter environment, please rerun this cell to show the HTML representation or trust the notebook. <br />On GitHub, the HTML representation is unable to render, please try loading this page with nbviewer.org.</b></div><div class=\"sk-container\" hidden><div class=\"sk-item\"><div class=\"sk-estimator sk-toggleable\"><input class=\"sk-toggleable__control sk-hidden--visually\" id=\"sk-estimator-id-1\" type=\"checkbox\" checked><label for=\"sk-estimator-id-1\" class=\"sk-toggleable__label sk-toggleable__label-arrow\">KNeighborsClassifier</label><div class=\"sk-toggleable__content\"><pre>KNeighborsClassifier()</pre></div></div></div></div></div>"
      ],
      "text/plain": [
       "KNeighborsClassifier()"
      ]
     },
     "execution_count": 129,
     "metadata": {},
     "output_type": "execute_result"
    }
   ],
   "source": [
    "knn.fit(X_train,y_train)"
   ]
  },
  {
   "cell_type": "code",
   "execution_count": 134,
   "id": "08c1fcc0-db4f-473a-ba76-51deeaf57aad",
   "metadata": {},
   "outputs": [],
   "source": [
    "# Assuming 'model' is your trained model\n",
    "predictions = knn.predict(X_test)\n"
   ]
  },
  {
   "cell_type": "code",
   "execution_count": 135,
   "id": "6a6d3bc8-9d2c-44cb-b401-84a04407285e",
   "metadata": {},
   "outputs": [
    {
     "data": {
      "text/plain": [
       "array([2000, 1100, 1100, ..., 1100, 1100, 1700], dtype=int64)"
      ]
     },
     "execution_count": 135,
     "metadata": {},
     "output_type": "execute_result"
    }
   ],
   "source": [
    "predictions"
   ]
  },
  {
   "cell_type": "code",
   "execution_count": 136,
   "id": "5104b2e0-95b8-496f-ba02-83cc6b722c06",
   "metadata": {},
   "outputs": [],
   "source": [
    "from sklearn.metrics import confusion_matrix,classification_report"
   ]
  },
  {
   "cell_type": "code",
   "execution_count": 137,
   "id": "c7bb9327-9fc7-4490-9cf2-f3697051e5b8",
   "metadata": {},
   "outputs": [
    {
     "name": "stdout",
     "output_type": "stream",
     "text": [
      "[[ 236  135   29   83]\n",
      " [  63 1530  117  177]\n",
      " [  21  317  494  106]\n",
      " [  21  298  104  904]]\n"
     ]
    }
   ],
   "source": [
    "print(confusion_matrix(y_test,predictions))"
   ]
  },
  {
   "cell_type": "code",
   "execution_count": 138,
   "id": "1747ff3f-f16d-41a5-a709-bc9d13d36b1d",
   "metadata": {},
   "outputs": [
    {
     "name": "stdout",
     "output_type": "stream",
     "text": [
      "              precision    recall  f1-score   support\n",
      "\n",
      "         500       0.69      0.49      0.57       483\n",
      "        1100       0.67      0.81      0.73      1887\n",
      "        1700       0.66      0.53      0.59       938\n",
      "        2000       0.71      0.68      0.70      1327\n",
      "\n",
      "    accuracy                           0.68      4635\n",
      "   macro avg       0.68      0.63      0.65      4635\n",
      "weighted avg       0.68      0.68      0.68      4635\n",
      "\n"
     ]
    }
   ],
   "source": [
    "print(classification_report(y_test,predictions))"
   ]
  },
  {
   "cell_type": "code",
   "execution_count": 139,
   "id": "b5036525-8be7-48a3-9215-f06978370550",
   "metadata": {},
   "outputs": [
    {
     "data": {
      "text/html": [
       "<div>\n",
       "<style scoped>\n",
       "    .dataframe tbody tr th:only-of-type {\n",
       "        vertical-align: middle;\n",
       "    }\n",
       "\n",
       "    .dataframe tbody tr th {\n",
       "        vertical-align: top;\n",
       "    }\n",
       "\n",
       "    .dataframe thead th {\n",
       "        text-align: right;\n",
       "    }\n",
       "</style>\n",
       "<table border=\"1\" class=\"dataframe\">\n",
       "  <thead>\n",
       "    <tr style=\"text-align: right;\">\n",
       "      <th></th>\n",
       "      <th>Submitted Date</th>\n",
       "      <th>Make</th>\n",
       "      <th>Model</th>\n",
       "      <th>County</th>\n",
       "      <th>ZIP</th>\n",
       "      <th>EV Type</th>\n",
       "      <th>Transaction Type</th>\n",
       "      <th>Annual GHG Emissions Reductions (MT CO2e)</th>\n",
       "      <th>Annual Petroleum Reductions (gallons)</th>\n",
       "      <th>Rebate Amount (USD)</th>\n",
       "      <th>Rebate Amount (USD)2</th>\n",
       "      <th>Rebate Amount (USD)</th>\n",
       "    </tr>\n",
       "  </thead>\n",
       "  <tbody>\n",
       "    <tr>\n",
       "      <th>0</th>\n",
       "      <td>34</td>\n",
       "      <td>4</td>\n",
       "      <td>14</td>\n",
       "      <td>59</td>\n",
       "      <td>137</td>\n",
       "      <td>0</td>\n",
       "      <td>0</td>\n",
       "      <td>41</td>\n",
       "      <td>32</td>\n",
       "      <td>1700</td>\n",
       "      <td>2</td>\n",
       "      <td>2</td>\n",
       "    </tr>\n",
       "    <tr>\n",
       "      <th>1</th>\n",
       "      <td>715</td>\n",
       "      <td>4</td>\n",
       "      <td>14</td>\n",
       "      <td>32</td>\n",
       "      <td>988</td>\n",
       "      <td>0</td>\n",
       "      <td>0</td>\n",
       "      <td>41</td>\n",
       "      <td>32</td>\n",
       "      <td>1700</td>\n",
       "      <td>2</td>\n",
       "      <td>2</td>\n",
       "    </tr>\n",
       "    <tr>\n",
       "      <th>2</th>\n",
       "      <td>299</td>\n",
       "      <td>4</td>\n",
       "      <td>14</td>\n",
       "      <td>51</td>\n",
       "      <td>416</td>\n",
       "      <td>0</td>\n",
       "      <td>0</td>\n",
       "      <td>41</td>\n",
       "      <td>32</td>\n",
       "      <td>1700</td>\n",
       "      <td>2</td>\n",
       "      <td>2</td>\n",
       "    </tr>\n",
       "    <tr>\n",
       "      <th>3</th>\n",
       "      <td>643</td>\n",
       "      <td>4</td>\n",
       "      <td>14</td>\n",
       "      <td>29</td>\n",
       "      <td>401</td>\n",
       "      <td>0</td>\n",
       "      <td>0</td>\n",
       "      <td>41</td>\n",
       "      <td>32</td>\n",
       "      <td>1700</td>\n",
       "      <td>2</td>\n",
       "      <td>2</td>\n",
       "    </tr>\n",
       "    <tr>\n",
       "      <th>4</th>\n",
       "      <td>390</td>\n",
       "      <td>4</td>\n",
       "      <td>14</td>\n",
       "      <td>33</td>\n",
       "      <td>851</td>\n",
       "      <td>0</td>\n",
       "      <td>1</td>\n",
       "      <td>41</td>\n",
       "      <td>32</td>\n",
       "      <td>1700</td>\n",
       "      <td>2</td>\n",
       "      <td>2</td>\n",
       "    </tr>\n",
       "  </tbody>\n",
       "</table>\n",
       "</div>"
      ],
      "text/plain": [
       "   Submitted Date  Make  Model  County  ZIP  EV Type  Transaction Type  \\\n",
       "0              34     4     14      59  137        0                 0   \n",
       "1             715     4     14      32  988        0                 0   \n",
       "2             299     4     14      51  416        0                 0   \n",
       "3             643     4     14      29  401        0                 0   \n",
       "4             390     4     14      33  851        0                 1   \n",
       "\n",
       "   Annual GHG Emissions Reductions (MT CO2e)  \\\n",
       "0                                         41   \n",
       "1                                         41   \n",
       "2                                         41   \n",
       "3                                         41   \n",
       "4                                         41   \n",
       "\n",
       "   Annual Petroleum Reductions (gallons)  Rebate Amount (USD)  \\\n",
       "0                                     32                 1700   \n",
       "1                                     32                 1700   \n",
       "2                                     32                 1700   \n",
       "3                                     32                 1700   \n",
       "4                                     32                 1700   \n",
       "\n",
       "    Rebate Amount (USD)2   Rebate Amount (USD)  \n",
       "0                      2                     2  \n",
       "1                      2                     2  \n",
       "2                      2                     2  \n",
       "3                      2                     2  \n",
       "4                      2                     2  "
      ]
     },
     "execution_count": 139,
     "metadata": {},
     "output_type": "execute_result"
    }
   ],
   "source": [
    "df.head()"
   ]
  },
  {
   "cell_type": "code",
   "execution_count": null,
   "id": "49471d63-0bb0-49c0-a3a7-40e0b68567e8",
   "metadata": {},
   "outputs": [],
   "source": []
  }
 ],
 "metadata": {
  "kernelspec": {
   "display_name": "Python 3 (ipykernel)",
   "language": "python",
   "name": "python3"
  },
  "language_info": {
   "codemirror_mode": {
    "name": "ipython",
    "version": 3
   },
   "file_extension": ".py",
   "mimetype": "text/x-python",
   "name": "python",
   "nbconvert_exporter": "python",
   "pygments_lexer": "ipython3",
   "version": "3.12.1"
  }
 },
 "nbformat": 4,
 "nbformat_minor": 5
}
